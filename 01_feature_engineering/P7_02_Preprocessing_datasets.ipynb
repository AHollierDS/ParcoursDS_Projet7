{
 "cells": [
  {
   "cell_type": "code",
   "execution_count": 1,
   "metadata": {},
   "outputs": [],
   "source": [
    "# Librairies\n",
    "import pandas as pd\n",
    "import numpy as np\n",
    "import matplotlib.pyplot as plt\n",
    "import gc\n",
    "import lightgbm\n",
    "import re\n",
    "\n",
    "from scripts import fe_scripts as fe\n",
    "from scripts import light\n",
    "from sklearn.model_selection import train_test_split\n",
    "\n",
    "# Options\n",
    "pd.set_option('display.max_columns', 200)\n",
    "%load_ext autoreload\n",
    "%autoreload 2\n",
    "%matplotlib inline"
   ]
  },
  {
   "cell_type": "markdown",
   "metadata": {},
   "source": [
    "# Feature Engineering on each dataset"
   ]
  },
  {
   "cell_type": "markdown",
   "metadata": {},
   "source": [
    "## Prepare and store engineered datasets"
   ]
  },
  {
   "cell_type": "code",
   "execution_count": 2,
   "metadata": {},
   "outputs": [
    {
     "data": {
      "text/plain": [
       "(305811, 79)"
      ]
     },
     "execution_count": 2,
     "metadata": {},
     "output_type": "execute_result"
    }
   ],
   "source": [
    "# Bureau and bureau balance\n",
    "df_bureau = fe.bureau_and_balance()\n",
    "df_bureau.to_pickle('../data/data_outputs/feature_engineered/bureau.pkl')\n",
    "df_bureau.shape"
   ]
  },
  {
   "cell_type": "code",
   "execution_count": 3,
   "metadata": {},
   "outputs": [
    {
     "data": {
      "text/plain": [
       "(338857, 134)"
      ]
     },
     "execution_count": 3,
     "metadata": {},
     "output_type": "execute_result"
    }
   ],
   "source": [
    "# Previous applications\n",
    "df_previous = fe.previous_applications()\n",
    "df_previous.to_pickle('../data/data_outputs/feature_engineered/previous.pkl')\n",
    "df_previous.shape"
   ]
  },
  {
   "cell_type": "code",
   "execution_count": 4,
   "metadata": {},
   "outputs": [
    {
     "data": {
      "text/plain": [
       "(337252, 18)"
      ]
     },
     "execution_count": 4,
     "metadata": {},
     "output_type": "execute_result"
    }
   ],
   "source": [
    "# POS_CASH_balance\n",
    "df_pos = fe.pos_cash()\n",
    "df_pos.to_pickle('../data/data_outputs/feature_engineered/pos.pkl')\n",
    "df_pos.shape"
   ]
  },
  {
   "cell_type": "code",
   "execution_count": 5,
   "metadata": {},
   "outputs": [
    {
     "data": {
      "text/plain": [
       "(339587, 22)"
      ]
     },
     "execution_count": 5,
     "metadata": {},
     "output_type": "execute_result"
    }
   ],
   "source": [
    "# Installments\n",
    "df_install = fe.installments_payments()\n",
    "df_install.to_pickle('../data/data_outputs/feature_engineered/installments.pkl')\n",
    "df_install.shape"
   ]
  },
  {
   "cell_type": "code",
   "execution_count": 6,
   "metadata": {},
   "outputs": [
    {
     "data": {
      "text/plain": [
       "(103558, 113)"
      ]
     },
     "execution_count": 6,
     "metadata": {},
     "output_type": "execute_result"
    }
   ],
   "source": [
    "# Credit card balance\n",
    "df_ccb = fe.credit_card_balance()\n",
    "df_ccb.to_pickle('../data/data_outputs/feature_engineered/credit_card.pkl')\n",
    "df_ccb.shape"
   ]
  },
  {
   "cell_type": "markdown",
   "metadata": {},
   "source": [
    "## Merging all dataframes"
   ]
  },
  {
   "cell_type": "code",
   "execution_count": 7,
   "metadata": {},
   "outputs": [
    {
     "data": {
      "text/plain": [
       "(356251, 184)"
      ]
     },
     "execution_count": 7,
     "metadata": {},
     "output_type": "execute_result"
    }
   ],
   "source": [
    "# Main dataset\n",
    "df_app = pd.read_pickle('../data/data_outputs/feature_engineered/application.pkl')\n",
    "#df_app = df_app[~df_app['TARGET'].isna()]\n",
    "df_app.shape"
   ]
  },
  {
   "cell_type": "code",
   "execution_count": 8,
   "metadata": {},
   "outputs": [
    {
     "data": {
      "text/plain": [
       "4"
      ]
     },
     "execution_count": 8,
     "metadata": {},
     "output_type": "execute_result"
    }
   ],
   "source": [
    "# Merge bureau\n",
    "df_ = df_app.join(df_bureau, how = 'left', on = 'SK_ID_CURR')\n",
    "\n",
    "del df_app\n",
    "del df_bureau\n",
    "gc.collect()"
   ]
  },
  {
   "cell_type": "code",
   "execution_count": 9,
   "metadata": {},
   "outputs": [
    {
     "data": {
      "text/plain": [
       "0"
      ]
     },
     "execution_count": 9,
     "metadata": {},
     "output_type": "execute_result"
    }
   ],
   "source": [
    "# Merge Previous applications\n",
    "df_ = df_.join(df_previous, how = 'left', on = 'SK_ID_CURR')\n",
    "del df_previous\n",
    "gc.collect()"
   ]
  },
  {
   "cell_type": "code",
   "execution_count": 10,
   "metadata": {},
   "outputs": [
    {
     "data": {
      "text/plain": [
       "0"
      ]
     },
     "execution_count": 10,
     "metadata": {},
     "output_type": "execute_result"
    }
   ],
   "source": [
    "# Merge POS_CASH_balance\n",
    "df_ = df_.join(df_pos, how = 'left', on = 'SK_ID_CURR')\n",
    "del df_pos\n",
    "gc.collect()"
   ]
  },
  {
   "cell_type": "code",
   "execution_count": 11,
   "metadata": {},
   "outputs": [
    {
     "data": {
      "text/plain": [
       "0"
      ]
     },
     "execution_count": 11,
     "metadata": {},
     "output_type": "execute_result"
    }
   ],
   "source": [
    "# Merge installments\n",
    "df_ = df_.join(df_install, how = 'left', on = 'SK_ID_CURR')\n",
    "del df_install\n",
    "gc.collect()"
   ]
  },
  {
   "cell_type": "code",
   "execution_count": 12,
   "metadata": {},
   "outputs": [
    {
     "data": {
      "text/plain": [
       "0"
      ]
     },
     "execution_count": 12,
     "metadata": {},
     "output_type": "execute_result"
    }
   ],
   "source": [
    "# Merge Credit card balance\n",
    "df_ = df_.join(df_ccb, how = 'left', on = 'SK_ID_CURR')\n",
    "del df_ccb\n",
    "gc.collect()"
   ]
  },
  {
   "cell_type": "code",
   "execution_count": 13,
   "metadata": {},
   "outputs": [
    {
     "data": {
      "text/plain": [
       "(356251, 550)"
      ]
     },
     "execution_count": 13,
     "metadata": {},
     "output_type": "execute_result"
    }
   ],
   "source": [
    "df_.shape"
   ]
  },
  {
   "cell_type": "markdown",
   "metadata": {},
   "source": [
    "## Storing datasets"
   ]
  },
  {
   "cell_type": "code",
   "execution_count": 14,
   "metadata": {},
   "outputs": [
    {
     "data": {
      "text/plain": [
       "44"
      ]
     },
     "execution_count": 14,
     "metadata": {},
     "output_type": "execute_result"
    }
   ],
   "source": [
    "df_[~df_['TARGET'].isna()].to_pickle('../data/data_outputs/feature_engineered/full_dataset_train.pkl')\n",
    "df_[df_['TARGET'].isna()].to_pickle('../data/data_outputs/feature_engineered/full_dataset_test.pkl')\n",
    "\n",
    "del df_\n",
    "gc.collect()"
   ]
  },
  {
   "cell_type": "markdown",
   "metadata": {},
   "source": [
    "# Feature Selection"
   ]
  },
  {
   "cell_type": "markdown",
   "metadata": {},
   "source": [
    "https://www.kaggle.com/willkoehrsen/introduction-to-feature-selection/notebook"
   ]
  },
  {
   "cell_type": "markdown",
   "metadata": {},
   "source": [
    "A chaque étape, évaluer l'impact sur les perfs pour ne pas supprimer de features déterminantes, voir faire varier le seuil (R²max / % NaN)"
   ]
  },
  {
   "cell_type": "code",
   "execution_count": 15,
   "metadata": {},
   "outputs": [],
   "source": [
    "# Loading dataset\n",
    "data = pd.read_pickle('../data/data_outputs/feature_engineered/full_dataset_train.pkl')\n",
    "data.rename(columns = lambda x:re.sub('[^A-Za-z0-9_]+', '', x), inplace = True)"
   ]
  },
  {
   "cell_type": "code",
   "execution_count": 16,
   "metadata": {
    "scrolled": true
   },
   "outputs": [
    {
     "name": "stdout",
     "output_type": "stream",
     "text": [
      "Starting LightGBM. Train shape: (10000, 550), test shape: (0, 550)\n",
      "Training until validation scores don't improve for 200 rounds\n",
      "[100]\ttraining's auc: 0.972319\ttraining's binary_logloss: 0.153493\tvalid_1's auc: 0.77953\tvalid_1's binary_logloss: 0.235573\n",
      "[200]\ttraining's auc: 0.997858\ttraining's binary_logloss: 0.103941\tvalid_1's auc: 0.781187\tvalid_1's binary_logloss: 0.234532\n",
      "[300]\ttraining's auc: 0.999871\ttraining's binary_logloss: 0.0753044\tvalid_1's auc: 0.775403\tvalid_1's binary_logloss: 0.238193\n",
      "Early stopping, best iteration is:\n",
      "[127]\ttraining's auc: 0.985838\ttraining's binary_logloss: 0.13677\tvalid_1's auc: 0.782254\tvalid_1's binary_logloss: 0.233938\n",
      "Fold  1 AUC : 0.782254\n",
      "Training until validation scores don't improve for 200 rounds\n",
      "[100]\ttraining's auc: 0.975841\ttraining's binary_logloss: 0.152654\tvalid_1's auc: 0.766123\tvalid_1's binary_logloss: 0.236139\n",
      "[200]\ttraining's auc: 0.997472\ttraining's binary_logloss: 0.104334\tvalid_1's auc: 0.778058\tvalid_1's binary_logloss: 0.233808\n",
      "[300]\ttraining's auc: 0.999709\ttraining's binary_logloss: 0.076212\tvalid_1's auc: 0.777932\tvalid_1's binary_logloss: 0.237005\n",
      "[400]\ttraining's auc: 0.999977\ttraining's binary_logloss: 0.0571325\tvalid_1's auc: 0.770732\tvalid_1's binary_logloss: 0.243715\n",
      "Early stopping, best iteration is:\n",
      "[207]\ttraining's auc: 0.997775\ttraining's binary_logloss: 0.102026\tvalid_1's auc: 0.778851\tvalid_1's binary_logloss: 0.233639\n",
      "Fold  2 AUC : 0.778851\n",
      "Training until validation scores don't improve for 200 rounds\n",
      "[100]\ttraining's auc: 0.973008\ttraining's binary_logloss: 0.149966\tvalid_1's auc: 0.728214\tvalid_1's binary_logloss: 0.248892\n",
      "[200]\ttraining's auc: 0.998027\ttraining's binary_logloss: 0.100664\tvalid_1's auc: 0.73846\tvalid_1's binary_logloss: 0.24891\n",
      "[300]\ttraining's auc: 0.999862\ttraining's binary_logloss: 0.0727525\tvalid_1's auc: 0.74317\tvalid_1's binary_logloss: 0.252037\n",
      "Early stopping, best iteration is:\n",
      "[119]\ttraining's auc: 0.981271\ttraining's binary_logloss: 0.138252\tvalid_1's auc: 0.733022\tvalid_1's binary_logloss: 0.247954\n",
      "Fold  3 AUC : 0.733022\n",
      "Training until validation scores don't improve for 200 rounds\n",
      "[100]\ttraining's auc: 0.973906\ttraining's binary_logloss: 0.149014\tvalid_1's auc: 0.708968\tvalid_1's binary_logloss: 0.253788\n",
      "[200]\ttraining's auc: 0.998114\ttraining's binary_logloss: 0.100367\tvalid_1's auc: 0.727749\tvalid_1's binary_logloss: 0.254927\n",
      "Early stopping, best iteration is:\n",
      "[79]\ttraining's auc: 0.957357\ttraining's binary_logloss: 0.163824\tvalid_1's auc: 0.709405\tvalid_1's binary_logloss: 0.253018\n",
      "Fold  4 AUC : 0.709405\n",
      "Training until validation scores don't improve for 200 rounds\n",
      "[100]\ttraining's auc: 0.975297\ttraining's binary_logloss: 0.151297\tvalid_1's auc: 0.749422\tvalid_1's binary_logloss: 0.239758\n",
      "[200]\ttraining's auc: 0.998591\ttraining's binary_logloss: 0.102452\tvalid_1's auc: 0.758196\tvalid_1's binary_logloss: 0.238087\n",
      "[300]\ttraining's auc: 0.999925\ttraining's binary_logloss: 0.0741761\tvalid_1's auc: 0.760059\tvalid_1's binary_logloss: 0.24064\n",
      "Early stopping, best iteration is:\n",
      "[167]\ttraining's auc: 0.996348\ttraining's binary_logloss: 0.115472\tvalid_1's auc: 0.759357\tvalid_1's binary_logloss: 0.237147\n",
      "Fold  5 AUC : 0.759357\n",
      "Full AUC score 0.752641\n"
     ]
    }
   ],
   "source": [
    "# Baseline performance before feature selection\n",
    "light.kfold_lightgbm(data.iloc[:10000], num_folds=5, stratified = True)"
   ]
  },
  {
   "cell_type": "markdown",
   "metadata": {},
   "source": [
    "## Searching and dropping columns high correlations"
   ]
  },
  {
   "cell_type": "code",
   "execution_count": 17,
   "metadata": {},
   "outputs": [],
   "source": [
    "# Correlation matrix\n",
    "corr = data.corr().abs()\n",
    "upper = corr.where(np.triu(np.ones(corr.shape), k=1).astype(np.bool))"
   ]
  },
  {
   "cell_type": "code",
   "execution_count": 18,
   "metadata": {},
   "outputs": [
    {
     "data": {
      "text/plain": [
       "(149, 0.27090909090909093)"
      ]
     },
     "execution_count": 18,
     "metadata": {},
     "output_type": "execute_result"
    }
   ],
   "source": [
    "# Number and proportion of columns with high correlations \n",
    "l_drop = [c for c in upper.columns if any(upper[c]>0.9)]\n",
    "len(l_drop), len(l_drop)/len(upper)"
   ]
  },
  {
   "cell_type": "code",
   "execution_count": 19,
   "metadata": {
    "scrolled": true
   },
   "outputs": [
    {
     "name": "stdout",
     "output_type": "stream",
     "text": [
      "Starting LightGBM. Train shape: (10000, 401), test shape: (0, 401)\n",
      "Training until validation scores don't improve for 200 rounds\n",
      "[100]\ttraining's auc: 0.973038\ttraining's binary_logloss: 0.155478\tvalid_1's auc: 0.779764\tvalid_1's binary_logloss: 0.235497\n",
      "[200]\ttraining's auc: 0.998409\ttraining's binary_logloss: 0.105343\tvalid_1's auc: 0.784719\tvalid_1's binary_logloss: 0.232305\n",
      "[300]\ttraining's auc: 0.999907\ttraining's binary_logloss: 0.0765227\tvalid_1's auc: 0.782247\tvalid_1's binary_logloss: 0.235132\n",
      "[400]\ttraining's auc: 0.999997\ttraining's binary_logloss: 0.0573394\tvalid_1's auc: 0.778376\tvalid_1's binary_logloss: 0.241482\n",
      "Early stopping, best iteration is:\n",
      "[201]\ttraining's auc: 0.998445\ttraining's binary_logloss: 0.104989\tvalid_1's auc: 0.784635\tvalid_1's binary_logloss: 0.232287\n",
      "Fold  1 AUC : 0.784635\n",
      "Training until validation scores don't improve for 200 rounds\n",
      "[100]\ttraining's auc: 0.977525\ttraining's binary_logloss: 0.154282\tvalid_1's auc: 0.79058\tvalid_1's binary_logloss: 0.2353\n",
      "[200]\ttraining's auc: 0.997988\ttraining's binary_logloss: 0.105601\tvalid_1's auc: 0.792485\tvalid_1's binary_logloss: 0.232435\n",
      "[300]\ttraining's auc: 0.99981\ttraining's binary_logloss: 0.0781927\tvalid_1's auc: 0.789531\tvalid_1's binary_logloss: 0.234631\n",
      "Early stopping, best iteration is:\n",
      "[193]\ttraining's auc: 0.99768\ttraining's binary_logloss: 0.108071\tvalid_1's auc: 0.793339\tvalid_1's binary_logloss: 0.232209\n",
      "Fold  2 AUC : 0.793339\n",
      "Training until validation scores don't improve for 200 rounds\n",
      "[100]\ttraining's auc: 0.971128\ttraining's binary_logloss: 0.152143\tvalid_1's auc: 0.73961\tvalid_1's binary_logloss: 0.245037\n",
      "[200]\ttraining's auc: 0.99792\ttraining's binary_logloss: 0.103696\tvalid_1's auc: 0.754311\tvalid_1's binary_logloss: 0.242332\n",
      "[300]\ttraining's auc: 0.999864\ttraining's binary_logloss: 0.0755441\tvalid_1's auc: 0.753961\tvalid_1's binary_logloss: 0.245664\n",
      "Early stopping, best iteration is:\n",
      "[172]\ttraining's auc: 0.995681\ttraining's binary_logloss: 0.114476\tvalid_1's auc: 0.753611\tvalid_1's binary_logloss: 0.241996\n",
      "Fold  3 AUC : 0.753611\n",
      "Training until validation scores don't improve for 200 rounds\n",
      "[100]\ttraining's auc: 0.970463\ttraining's binary_logloss: 0.152127\tvalid_1's auc: 0.722109\tvalid_1's binary_logloss: 0.249246\n",
      "[200]\ttraining's auc: 0.997347\ttraining's binary_logloss: 0.102428\tvalid_1's auc: 0.729508\tvalid_1's binary_logloss: 0.252138\n",
      "[300]\ttraining's auc: 0.999843\ttraining's binary_logloss: 0.0738723\tvalid_1's auc: 0.725399\tvalid_1's binary_logloss: 0.259241\n",
      "Early stopping, best iteration is:\n",
      "[105]\ttraining's auc: 0.973103\ttraining's binary_logloss: 0.148868\tvalid_1's auc: 0.722853\tvalid_1's binary_logloss: 0.249064\n",
      "Fold  4 AUC : 0.722853\n",
      "Training until validation scores don't improve for 200 rounds\n",
      "[100]\ttraining's auc: 0.975573\ttraining's binary_logloss: 0.153187\tvalid_1's auc: 0.742191\tvalid_1's binary_logloss: 0.24176\n",
      "[200]\ttraining's auc: 0.997904\ttraining's binary_logloss: 0.10543\tvalid_1's auc: 0.751394\tvalid_1's binary_logloss: 0.239582\n",
      "[300]\ttraining's auc: 0.999869\ttraining's binary_logloss: 0.0768205\tvalid_1's auc: 0.75586\tvalid_1's binary_logloss: 0.242106\n",
      "Early stopping, best iteration is:\n",
      "[188]\ttraining's auc: 0.997186\ttraining's binary_logloss: 0.109802\tvalid_1's auc: 0.751286\tvalid_1's binary_logloss: 0.23929\n",
      "Fold  5 AUC : 0.751286\n",
      "Full AUC score 0.761668\n"
     ]
    }
   ],
   "source": [
    "# Performance impact if dropping high correlations\n",
    "light.kfold_lightgbm(data.iloc[:10000].drop(columns = l_drop), num_folds=5, stratified = True)"
   ]
  },
  {
   "cell_type": "code",
   "execution_count": 20,
   "metadata": {},
   "outputs": [],
   "source": [
    "# Delete columns highly correlated with another column\n",
    "data = data.drop(columns = l_drop)"
   ]
  },
  {
   "cell_type": "code",
   "execution_count": 21,
   "metadata": {},
   "outputs": [],
   "source": [
    "del corr, upper"
   ]
  },
  {
   "cell_type": "markdown",
   "metadata": {},
   "source": [
    "## Handling missing values"
   ]
  },
  {
   "cell_type": "code",
   "execution_count": 22,
   "metadata": {},
   "outputs": [
    {
     "data": {
      "image/png": "[encoded data removed]",
      "text/plain": [
       "<Figure size 720x360 with 1 Axes>"
      ]
     },
     "metadata": {
      "needs_background": "light"
     },
     "output_type": "display_data"
    }
   ],
   "source": [
    "# Proportion of missing values\n",
    "s_ = data.isnull().sum()/len(data)\n",
    "s_.plot(kind = 'hist', bins = 100, figsize = (10,5), cumulative = True)\n",
    "plt.grid()\n",
    "plt.show()"
   ]
  },
  {
   "cell_type": "code",
   "execution_count": 23,
   "metadata": {},
   "outputs": [
    {
     "data": {
      "text/plain": [
       "(25, 0.06234413965087282)"
      ]
     },
     "execution_count": 23,
     "metadata": {},
     "output_type": "execute_result"
    }
   ],
   "source": [
    "# Number and proportion of columns high percentage of missing values\n",
    "len(s_[s_>0.75]), len(s_[s_>0.75])/len(s_)"
   ]
  },
  {
   "cell_type": "code",
   "execution_count": 24,
   "metadata": {
    "scrolled": true
   },
   "outputs": [
    {
     "name": "stdout",
     "output_type": "stream",
     "text": [
      "Starting LightGBM. Train shape: (10000, 376), test shape: (0, 376)\n",
      "Training until validation scores don't improve for 200 rounds\n",
      "[100]\ttraining's auc: 0.972528\ttraining's binary_logloss: 0.155331\tvalid_1's auc: 0.7796\tvalid_1's binary_logloss: 0.23484\n",
      "[200]\ttraining's auc: 0.998415\ttraining's binary_logloss: 0.10531\tvalid_1's auc: 0.788632\tvalid_1's binary_logloss: 0.230798\n",
      "[300]\ttraining's auc: 0.999911\ttraining's binary_logloss: 0.0765618\tvalid_1's auc: 0.784593\tvalid_1's binary_logloss: 0.234424\n",
      "[400]\ttraining's auc: 0.999994\ttraining's binary_logloss: 0.0574838\tvalid_1's auc: 0.783593\tvalid_1's binary_logloss: 0.239012\n",
      "Early stopping, best iteration is:\n",
      "[203]\ttraining's auc: 0.998512\ttraining's binary_logloss: 0.104245\tvalid_1's auc: 0.789111\tvalid_1's binary_logloss: 0.230669\n",
      "Fold  1 AUC : 0.789111\n",
      "Training until validation scores don't improve for 200 rounds\n",
      "[100]\ttraining's auc: 0.977572\ttraining's binary_logloss: 0.154322\tvalid_1's auc: 0.785051\tvalid_1's binary_logloss: 0.236126\n",
      "[200]\ttraining's auc: 0.998159\ttraining's binary_logloss: 0.105471\tvalid_1's auc: 0.78653\tvalid_1's binary_logloss: 0.2337\n",
      "[300]\ttraining's auc: 0.999804\ttraining's binary_logloss: 0.0776078\tvalid_1's auc: 0.791345\tvalid_1's binary_logloss: 0.233934\n",
      "[400]\ttraining's auc: 0.999989\ttraining's binary_logloss: 0.0587988\tvalid_1's auc: 0.789849\tvalid_1's binary_logloss: 0.238049\n",
      "Early stopping, best iteration is:\n",
      "[227]\ttraining's auc: 0.998982\ttraining's binary_logloss: 0.0965492\tvalid_1's auc: 0.789957\tvalid_1's binary_logloss: 0.232729\n",
      "Fold  2 AUC : 0.789957\n",
      "Training until validation scores don't improve for 200 rounds\n",
      "[100]\ttraining's auc: 0.971974\ttraining's binary_logloss: 0.152249\tvalid_1's auc: 0.732886\tvalid_1's binary_logloss: 0.246821\n",
      "[200]\ttraining's auc: 0.997632\ttraining's binary_logloss: 0.103882\tvalid_1's auc: 0.741271\tvalid_1's binary_logloss: 0.246483\n",
      "[300]\ttraining's auc: 0.99979\ttraining's binary_logloss: 0.0761503\tvalid_1's auc: 0.737809\tvalid_1's binary_logloss: 0.250505\n",
      "Early stopping, best iteration is:\n",
      "[140]\ttraining's auc: 0.988864\ttraining's binary_logloss: 0.129327\tvalid_1's auc: 0.739124\tvalid_1's binary_logloss: 0.245792\n",
      "Fold  3 AUC : 0.739124\n",
      "Training until validation scores don't improve for 200 rounds\n",
      "[100]\ttraining's auc: 0.969055\ttraining's binary_logloss: 0.152045\tvalid_1's auc: 0.726336\tvalid_1's binary_logloss: 0.249835\n",
      "[200]\ttraining's auc: 0.997333\ttraining's binary_logloss: 0.102419\tvalid_1's auc: 0.740072\tvalid_1's binary_logloss: 0.250755\n",
      "[300]\ttraining's auc: 0.999645\ttraining's binary_logloss: 0.0747546\tvalid_1's auc: 0.730099\tvalid_1's binary_logloss: 0.25823\n",
      "Early stopping, best iteration is:\n",
      "[117]\ttraining's auc: 0.978081\ttraining's binary_logloss: 0.141461\tvalid_1's auc: 0.732893\tvalid_1's binary_logloss: 0.248719\n",
      "Fold  4 AUC : 0.732893\n",
      "Training until validation scores don't improve for 200 rounds\n",
      "[100]\ttraining's auc: 0.976187\ttraining's binary_logloss: 0.152827\tvalid_1's auc: 0.738785\tvalid_1's binary_logloss: 0.242618\n",
      "[200]\ttraining's auc: 0.998061\ttraining's binary_logloss: 0.105176\tvalid_1's auc: 0.745093\tvalid_1's binary_logloss: 0.241244\n",
      "[300]\ttraining's auc: 0.999812\ttraining's binary_logloss: 0.0776224\tvalid_1's auc: 0.747258\tvalid_1's binary_logloss: 0.244148\n",
      "Early stopping, best iteration is:\n",
      "[180]\ttraining's auc: 0.996899\ttraining's binary_logloss: 0.112554\tvalid_1's auc: 0.74467\tvalid_1's binary_logloss: 0.241167\n",
      "Fold  5 AUC : 0.744670\n",
      "Full AUC score 0.759408\n"
     ]
    }
   ],
   "source": [
    "# Performance impact if dropping high percentage of missing values\n",
    "l_drop = [x for x in s_[s_>0.75].index]\n",
    "light.kfold_lightgbm(data.iloc[:10000].drop(columns = l_drop), num_folds=5, stratified = True)"
   ]
  },
  {
   "cell_type": "code",
   "execution_count": 25,
   "metadata": {
    "scrolled": true
   },
   "outputs": [
    {
     "name": "stdout",
     "output_type": "stream",
     "text": [
      "Starting LightGBM. Train shape: (10000, 380), test shape: (0, 380)\n",
      "Training until validation scores don't improve for 200 rounds\n",
      "[100]\ttraining's auc: 0.973021\ttraining's binary_logloss: 0.155699\tvalid_1's auc: 0.779407\tvalid_1's binary_logloss: 0.234378\n",
      "[200]\ttraining's auc: 0.998337\ttraining's binary_logloss: 0.10605\tvalid_1's auc: 0.785352\tvalid_1's binary_logloss: 0.231461\n",
      "[300]\ttraining's auc: 0.999894\ttraining's binary_logloss: 0.0773393\tvalid_1's auc: 0.784618\tvalid_1's binary_logloss: 0.233625\n",
      "Early stopping, best iteration is:\n",
      "[186]\ttraining's auc: 0.997601\ttraining's binary_logloss: 0.1112\tvalid_1's auc: 0.785953\tvalid_1's binary_logloss: 0.231157\n",
      "Fold  1 AUC : 0.785953\n",
      "Training until validation scores don't improve for 200 rounds\n",
      "[100]\ttraining's auc: 0.978038\ttraining's binary_logloss: 0.154231\tvalid_1's auc: 0.783313\tvalid_1's binary_logloss: 0.236956\n",
      "[200]\ttraining's auc: 0.997827\ttraining's binary_logloss: 0.105781\tvalid_1's auc: 0.789824\tvalid_1's binary_logloss: 0.232525\n",
      "[300]\ttraining's auc: 0.999623\ttraining's binary_logloss: 0.0781487\tvalid_1's auc: 0.792059\tvalid_1's binary_logloss: 0.23346\n",
      "[400]\ttraining's auc: 0.999951\ttraining's binary_logloss: 0.0591326\tvalid_1's auc: 0.788408\tvalid_1's binary_logloss: 0.238875\n",
      "Early stopping, best iteration is:\n",
      "[239]\ttraining's auc: 0.999\ttraining's binary_logloss: 0.093501\tvalid_1's auc: 0.791489\tvalid_1's binary_logloss: 0.232387\n",
      "Fold  2 AUC : 0.791489\n",
      "Training until validation scores don't improve for 200 rounds\n",
      "[100]\ttraining's auc: 0.97175\ttraining's binary_logloss: 0.152137\tvalid_1's auc: 0.742771\tvalid_1's binary_logloss: 0.245423\n",
      "[200]\ttraining's auc: 0.997776\ttraining's binary_logloss: 0.103711\tvalid_1's auc: 0.753017\tvalid_1's binary_logloss: 0.243963\n",
      "[300]\ttraining's auc: 0.999854\ttraining's binary_logloss: 0.0755827\tvalid_1's auc: 0.752143\tvalid_1's binary_logloss: 0.247205\n",
      "Early stopping, best iteration is:\n",
      "[180]\ttraining's auc: 0.996152\ttraining's binary_logloss: 0.111297\tvalid_1's auc: 0.752961\tvalid_1's binary_logloss: 0.243493\n",
      "Fold  3 AUC : 0.752961\n",
      "Training until validation scores don't improve for 200 rounds\n",
      "[100]\ttraining's auc: 0.97094\ttraining's binary_logloss: 0.151797\tvalid_1's auc: 0.718339\tvalid_1's binary_logloss: 0.251495\n",
      "[200]\ttraining's auc: 0.997764\ttraining's binary_logloss: 0.102073\tvalid_1's auc: 0.734414\tvalid_1's binary_logloss: 0.251845\n",
      "[300]\ttraining's auc: 0.999839\ttraining's binary_logloss: 0.0738431\tvalid_1's auc: 0.731781\tvalid_1's binary_logloss: 0.258311\n",
      "Early stopping, best iteration is:\n",
      "[163]\ttraining's auc: 0.994088\ttraining's binary_logloss: 0.116886\tvalid_1's auc: 0.730417\tvalid_1's binary_logloss: 0.25097\n",
      "Fold  4 AUC : 0.730417\n",
      "Training until validation scores don't improve for 200 rounds\n",
      "[100]\ttraining's auc: 0.976439\ttraining's binary_logloss: 0.153071\tvalid_1's auc: 0.747403\tvalid_1's binary_logloss: 0.241253\n",
      "[200]\ttraining's auc: 0.998033\ttraining's binary_logloss: 0.105137\tvalid_1's auc: 0.751527\tvalid_1's binary_logloss: 0.240076\n",
      "[300]\ttraining's auc: 0.999829\ttraining's binary_logloss: 0.0773818\tvalid_1's auc: 0.755839\tvalid_1's binary_logloss: 0.241849\n",
      "[400]\ttraining's auc: 0.999991\ttraining's binary_logloss: 0.0585013\tvalid_1's auc: 0.755297\tvalid_1's binary_logloss: 0.247098\n",
      "Early stopping, best iteration is:\n",
      "[221]\ttraining's auc: 0.998704\ttraining's binary_logloss: 0.0984075\tvalid_1's auc: 0.755143\tvalid_1's binary_logloss: 0.239528\n",
      "Fold  5 AUC : 0.755143\n",
      "Full AUC score 0.762694\n"
     ]
    }
   ],
   "source": [
    "# Performance impact if dropping high percentage of missing values\n",
    "l_drop = [x for x in s_[s_>0.80].index]\n",
    "light.kfold_lightgbm(data.iloc[:10000].drop(columns = l_drop), num_folds=5, stratified = True)"
   ]
  },
  {
   "cell_type": "code",
   "execution_count": 26,
   "metadata": {},
   "outputs": [],
   "source": [
    "# Dropping columns where more than 80% of values are missing\n",
    "data = data.drop(columns = l_drop)\n",
    "data.shape\n",
    "\n",
    "del s_, l_drop"
   ]
  },
  {
   "cell_type": "markdown",
   "metadata": {},
   "source": [
    "## Feature importance"
   ]
  },
  {
   "cell_type": "code",
   "execution_count": 27,
   "metadata": {
    "scrolled": true
   },
   "outputs": [
    {
     "name": "stdout",
     "output_type": "stream",
     "text": [
      "Training until validation scores don't improve for 100 rounds\n",
      "Early stopping, best iteration is:\n",
      "[46]\tvalid_0's auc: 0.764998\tvalid_0's binary_logloss: 0.474381\n",
      "Training until validation scores don't improve for 100 rounds\n",
      "Early stopping, best iteration is:\n",
      "[69]\tvalid_0's auc: 0.755109\tvalid_0's binary_logloss: 0.448934\n"
     ]
    }
   ],
   "source": [
    "data_sample = data.sample(50000).drop(columns = ['SK_ID_CURR'])\n",
    "X_ = data_sample.drop(columns = ['TARGET']).values\n",
    "y_ = data_sample['TARGET'].values\n",
    "\n",
    "feature_importances = np.zeros(X_.shape[1])\n",
    "\n",
    "# LightGBM model\n",
    "model = lightgbm.LGBMClassifier(objective='binary', \n",
    "                                boosting_type = 'goss', \n",
    "                                n_estimators = 1000, \n",
    "                                class_weight = 'balanced')\n",
    "\n",
    "# Train the model several times and retrieve mean feature importances\n",
    "for i in range(2):\n",
    "    x_train, x_test, y_train, y_test = train_test_split(X_, y_, test_size = 0.35, random_state = i)\n",
    "    model.fit(x_train, y_train, \n",
    "              early_stopping_rounds = 100, \n",
    "              eval_set = [(x_test, y_test)],\n",
    "              eval_metric = 'auc',\n",
    "              verbose = 200\n",
    "             )\n",
    "    feature_importances += abs(model.feature_importances_)\n",
    "    \n",
    "# Mean of feature_importances\n",
    "feature_importances = feature_importances/2"
   ]
  },
  {
   "cell_type": "code",
   "execution_count": 28,
   "metadata": {},
   "outputs": [
    {
     "data": {
      "image/png": "[encoded data removed]",
      "text/plain": [
       "<Figure size 432x288 with 1 Axes>"
      ]
     },
     "metadata": {
      "needs_background": "light"
     },
     "output_type": "display_data"
    }
   ],
   "source": [
    "# Feature importance per feature\n",
    "df_fi = pd.DataFrame(feature_importances,index = data_sample.drop(columns = ['TARGET']).columns, columns = ['FI'])\n",
    "df_fi.plot(kind = 'hist', cumulative = True, density = True, bins = 100)\n",
    "plt.show()"
   ]
  },
  {
   "cell_type": "code",
   "execution_count": 29,
   "metadata": {},
   "outputs": [
    {
     "data": {
      "text/plain": [
       "(128, 0.3368421052631579)"
      ]
     },
     "execution_count": 29,
     "metadata": {},
     "output_type": "execute_result"
    }
   ],
   "source": [
    "# Features with a null importance\n",
    "l_drop = list(df_fi[df_fi['FI']==0].index)\n",
    "len(l_drop), len(l_drop)/data.shape[1]"
   ]
  },
  {
   "cell_type": "code",
   "execution_count": 30,
   "metadata": {
    "scrolled": true
   },
   "outputs": [
    {
     "name": "stdout",
     "output_type": "stream",
     "text": [
      "Starting LightGBM. Train shape: (10000, 252), test shape: (0, 252)\n",
      "Training until validation scores don't improve for 200 rounds\n",
      "[100]\ttraining's auc: 0.972669\ttraining's binary_logloss: 0.155252\tvalid_1's auc: 0.779379\tvalid_1's binary_logloss: 0.235429\n",
      "[200]\ttraining's auc: 0.998339\ttraining's binary_logloss: 0.105167\tvalid_1's auc: 0.784488\tvalid_1's binary_logloss: 0.231946\n",
      "[300]\ttraining's auc: 0.999897\ttraining's binary_logloss: 0.076585\tvalid_1's auc: 0.784583\tvalid_1's binary_logloss: 0.234296\n",
      "Early stopping, best iteration is:\n",
      "[164]\ttraining's auc: 0.995119\ttraining's binary_logloss: 0.119821\tvalid_1's auc: 0.78524\tvalid_1's binary_logloss: 0.231642\n",
      "Fold  1 AUC : 0.785240\n",
      "Training until validation scores don't improve for 200 rounds\n",
      "[100]\ttraining's auc: 0.976946\ttraining's binary_logloss: 0.154238\tvalid_1's auc: 0.781813\tvalid_1's binary_logloss: 0.237605\n",
      "[200]\ttraining's auc: 0.997942\ttraining's binary_logloss: 0.105978\tvalid_1's auc: 0.782719\tvalid_1's binary_logloss: 0.234601\n",
      "[300]\ttraining's auc: 0.999814\ttraining's binary_logloss: 0.0781321\tvalid_1's auc: 0.783572\tvalid_1's binary_logloss: 0.235934\n",
      "[400]\ttraining's auc: 0.999983\ttraining's binary_logloss: 0.0592489\tvalid_1's auc: 0.782519\tvalid_1's binary_logloss: 0.240082\n",
      "Early stopping, best iteration is:\n",
      "[247]\ttraining's auc: 0.999393\ttraining's binary_logloss: 0.0911247\tvalid_1's auc: 0.785562\tvalid_1's binary_logloss: 0.234257\n",
      "Fold  2 AUC : 0.785562\n",
      "Training until validation scores don't improve for 200 rounds\n",
      "[100]\ttraining's auc: 0.971513\ttraining's binary_logloss: 0.15224\tvalid_1's auc: 0.743782\tvalid_1's binary_logloss: 0.244898\n",
      "[200]\ttraining's auc: 0.997832\ttraining's binary_logloss: 0.103514\tvalid_1's auc: 0.755849\tvalid_1's binary_logloss: 0.243189\n",
      "[300]\ttraining's auc: 0.999819\ttraining's binary_logloss: 0.0755523\tvalid_1's auc: 0.755237\tvalid_1's binary_logloss: 0.245973\n",
      "Early stopping, best iteration is:\n",
      "[189]\ttraining's auc: 0.997006\ttraining's binary_logloss: 0.107696\tvalid_1's auc: 0.755993\tvalid_1's binary_logloss: 0.242937\n",
      "Fold  3 AUC : 0.755993\n",
      "Training until validation scores don't improve for 200 rounds\n",
      "[100]\ttraining's auc: 0.969804\ttraining's binary_logloss: 0.151979\tvalid_1's auc: 0.72157\tvalid_1's binary_logloss: 0.250474\n",
      "[200]\ttraining's auc: 0.99774\ttraining's binary_logloss: 0.102012\tvalid_1's auc: 0.728039\tvalid_1's binary_logloss: 0.253498\n",
      "[300]\ttraining's auc: 0.999828\ttraining's binary_logloss: 0.0738573\tvalid_1's auc: 0.723004\tvalid_1's binary_logloss: 0.260704\n",
      "Early stopping, best iteration is:\n",
      "[112]\ttraining's auc: 0.977301\ttraining's binary_logloss: 0.144123\tvalid_1's auc: 0.72357\tvalid_1's binary_logloss: 0.250073\n",
      "Fold  4 AUC : 0.723570\n",
      "Training until validation scores don't improve for 200 rounds\n",
      "[100]\ttraining's auc: 0.974762\ttraining's binary_logloss: 0.15349\tvalid_1's auc: 0.741133\tvalid_1's binary_logloss: 0.242659\n",
      "[200]\ttraining's auc: 0.997912\ttraining's binary_logloss: 0.105328\tvalid_1's auc: 0.747058\tvalid_1's binary_logloss: 0.241403\n",
      "[300]\ttraining's auc: 0.999761\ttraining's binary_logloss: 0.077525\tvalid_1's auc: 0.754398\tvalid_1's binary_logloss: 0.242845\n",
      "Early stopping, best iteration is:\n",
      "[183]\ttraining's auc: 0.996888\ttraining's binary_logloss: 0.11155\tvalid_1's auc: 0.746397\tvalid_1's binary_logloss: 0.241114\n",
      "Fold  5 AUC : 0.746397\n",
      "Full AUC score 0.758503\n"
     ]
    }
   ],
   "source": [
    "# Impact on dropping features with zero importance\n",
    "light.kfold_lightgbm(data.iloc[:10000].drop(columns = l_drop), num_folds=5, stratified = True)"
   ]
  },
  {
   "cell_type": "raw",
   "metadata": {},
   "source": [
    "# Dropping columns with a null feature importance\n",
    "data = data.drop(columns = l_drop)\n",
    "data.shape"
   ]
  },
  {
   "cell_type": "code",
   "execution_count": 31,
   "metadata": {},
   "outputs": [],
   "source": [
    "del data_sample, X_, y_, x_train, x_test, y_train, y_test"
   ]
  },
  {
   "cell_type": "markdown",
   "metadata": {},
   "source": [
    "# Storing cleaned datasets"
   ]
  },
  {
   "cell_type": "code",
   "execution_count": 32,
   "metadata": {},
   "outputs": [
    {
     "data": {
      "text/plain": [
       "44"
      ]
     },
     "execution_count": 32,
     "metadata": {},
     "output_type": "execute_result"
    }
   ],
   "source": [
    "# Storing cleaned training set\n",
    "data.to_pickle('../data/data_outputs/feature_engineered/cleaned_dataset_train.pkl')\n",
    "l_columns = data.columns.tolist()\n",
    "del data\n",
    "gc.collect()"
   ]
  },
  {
   "cell_type": "code",
   "execution_count": 47,
   "metadata": {},
   "outputs": [
    {
     "data": {
      "text/plain": [
       "8"
      ]
     },
     "execution_count": 47,
     "metadata": {},
     "output_type": "execute_result"
    }
   ],
   "source": [
    "# Storing cleaned test set\n",
    "data_test = pd.read_pickle('../data/data_outputs/feature_engineered/full_dataset_test.pkl')\n",
    "data_test.rename(columns = lambda x:re.sub('[^A-Za-z0-9_]+', '', x), inplace = True)\n",
    "data_test = data_test[l_columns]\n",
    "\n",
    "data_test.to_pickle('../data/data_outputs/feature_engineered/cleaned_dataset_test.pkl')\n",
    "del data_test\n",
    "gc.collect()"
   ]
  },
  {
   "cell_type": "code",
   "execution_count": null,
   "metadata": {},
   "outputs": [],
   "source": []
  }
 ],
 "metadata": {
  "kernelspec": {
   "display_name": "Python 3",
   "language": "python",
   "name": "python3"
  },
  "language_info": {
   "codemirror_mode": {
    "name": "ipython",
    "version": 3
   },
   "file_extension": ".py",
   "mimetype": "text/x-python",
   "name": "python",
   "nbconvert_exporter": "python",
   "pygments_lexer": "ipython3",
   "version": "3.7.3"
  }
 },
 "nbformat": 4,
 "nbformat_minor": 4
}
