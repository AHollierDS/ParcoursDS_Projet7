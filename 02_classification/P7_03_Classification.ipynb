{
 "cells": [
  {
   "cell_type": "code",
   "execution_count": 1,
   "metadata": {},
   "outputs": [],
   "source": [
    "# Librairies\n",
    "import pandas as pd\n",
    "import numpy as np\n",
    "import matplotlib.pyplot as plt\n",
    "import lightgbm\n",
    "\n",
    "from sklearn.model_selection import train_test_split\n",
    "from sklearn.metrics import auc, roc_auc_score, roc_curve\n",
    "from sklearn.model_selection import KFold, StratifiedKFold\n",
    "\n",
    "from scripts import class_scripts\n",
    "\n",
    "# Options\n",
    "pd.set_option('display.max_columns', 200)\n",
    "%load_ext autoreload\n",
    "%autoreload 2\n",
    "%matplotlib inline"
   ]
  },
  {
   "cell_type": "code",
   "execution_count": 2,
   "metadata": {},
   "outputs": [],
   "source": [
    "# Import dataset\n",
    "data = pd.read_pickle('../data/data_outputs/feature_engineered/cleaned_dataset.pkl')"
   ]
  },
  {
   "cell_type": "code",
   "execution_count": 3,
   "metadata": {},
   "outputs": [],
   "source": [
    "data = data.drop(columns = ['source'])"
   ]
  },
  {
   "cell_type": "code",
   "execution_count": 4,
   "metadata": {},
   "outputs": [],
   "source": [
    "# Splitting train, test and validation sets\n",
    "X_ = data.drop(columns = ['TARGET']).values\n",
    "y_ = data['TARGET'].values\n",
    "\n",
    "X_tr, X_test, y_tr, y_test = train_test_split(X_, y_, test_size = 0.35, random_state = 42)\n",
    "X_train, X_val, y_train, y_val = train_test_split(X_tr, y_tr, test_size = 0.2, random_state = 42)"
   ]
  },
  {
   "cell_type": "code",
   "execution_count": 5,
   "metadata": {},
   "outputs": [
    {
     "data": {
      "text/plain": [
       "[0.08072986956394489,\n",
       " 0.08124925736227588,\n",
       " 0.08093396504885456,\n",
       " 0.07967280368220933,\n",
       " 0.0803508380718772]"
      ]
     },
     "execution_count": 5,
     "metadata": {},
     "output_type": "execute_result"
    }
   ],
   "source": [
    "# Proportion of positives in each subset\n",
    "[y_.mean(), y_train.mean(), y_tr.mean(), y_val.mean(), y_test.mean()]"
   ]
  },
  {
   "cell_type": "markdown",
   "metadata": {},
   "source": [
    "# LightGBM model"
   ]
  },
  {
   "cell_type": "code",
   "execution_count": null,
   "metadata": {},
   "outputs": [
    {
     "name": "stdout",
     "output_type": "stream",
     "text": [
      "Training until validation scores don't improve for 100 rounds\n"
     ]
    }
   ],
   "source": [
    "# LightGBM model\n",
    "model = lightgbm.LGBMClassifier(objective='binary', \n",
    "                                boosting_type = 'goss', \n",
    "                                n_estimators = 1000, \n",
    "                                class_weight = 'balanced')\n",
    "\n",
    "# Training\n",
    "model.fit(X_train, y_train, \n",
    "          early_stopping_rounds = 100, \n",
    "          eval_set = [(X_val, y_val)],\n",
    "          eval_metric = 'auc',\n",
    "          verbose = 200)"
   ]
  },
  {
   "cell_type": "code",
   "execution_count": null,
   "metadata": {},
   "outputs": [],
   "source": [
    "# Prediction and score\n",
    "y_pred = model.predict_proba(X_test)\n",
    "\n",
    "plt.figure(figsize = (6,6))\n",
    "class_scripts.plot_roc(y_test, y_pred[:,1])\n",
    "plt.show()"
   ]
  },
  {
   "cell_type": "code",
   "execution_count": null,
   "metadata": {},
   "outputs": [],
   "source": [
    "df_fi = pd.DataFrame(model.feature_importances_, index = data.drop(columns = ['TARGET']).columns)\n",
    "df_fi.sort_values(0).tail(20).plot(kind = 'barh', figsize = (5,5))\n",
    "plt.legend(['Feature importance'])\n",
    "plt.title('Top 20 Features by importance')\n",
    "plt.show()"
   ]
  },
  {
   "cell_type": "markdown",
   "metadata": {},
   "source": [
    "# LightGBM model with cross validation"
   ]
  },
  {
   "cell_type": "code",
   "execution_count": null,
   "metadata": {},
   "outputs": [],
   "source": []
  }
 ],
 "metadata": {
  "kernelspec": {
   "display_name": "Python 3",
   "language": "python",
   "name": "python3"
  },
  "language_info": {
   "codemirror_mode": {
    "name": "ipython",
    "version": 3
   },
   "file_extension": ".py",
   "mimetype": "text/x-python",
   "name": "python",
   "nbconvert_exporter": "python",
   "pygments_lexer": "ipython3",
   "version": "3.7.3"
  }
 },
 "nbformat": 4,
 "nbformat_minor": 4
}
