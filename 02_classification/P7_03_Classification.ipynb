{
 "cells": [
  {
   "cell_type": "code",
   "execution_count": 1,
   "metadata": {},
   "outputs": [],
   "source": [
    "# Librairies\n",
    "import pandas as pd\n",
    "import numpy as np\n",
    "import matplotlib.pyplot as plt\n",
    "import lightgbm\n",
    "\n",
    "from sklearn.model_selection import train_test_split\n",
    "from sklearn.metrics import auc, roc_auc_score, roc_curve\n",
    "from sklearn.model_selection import KFold, StratifiedKFold\n",
    "\n",
    "from scripts import class_scripts, light\n",
    "\n",
    "# Options\n",
    "pd.set_option('display.max_columns', 200)\n",
    "%load_ext autoreload\n",
    "%autoreload 2\n",
    "%matplotlib inline"
   ]
  },
  {
   "cell_type": "code",
   "execution_count": 2,
   "metadata": {},
   "outputs": [],
   "source": [
    "# Import dataset\n",
    "data = pd.read_pickle('../data/data_outputs/feature_engineered/cleaned_dataset.pkl')"
   ]
  },
  {
   "cell_type": "code",
   "execution_count": 8,
   "metadata": {},
   "outputs": [],
   "source": [
    "# Splitting train, test and validation sets\n",
    "df_train, df_test = train_test_split(data, test_size = 0.35, random_state = 42)"
   ]
  },
  {
   "cell_type": "markdown",
   "metadata": {},
   "source": [
    "# LightGBM model"
   ]
  },
  {
   "cell_type": "markdown",
   "metadata": {},
   "source": [
    "Réaliser un split sur plusieurs fold, puis blending"
   ]
  },
  {
   "cell_type": "code",
   "execution_count": 9,
   "metadata": {
    "scrolled": true
   },
   "outputs": [
    {
     "name": "stdout",
     "output_type": "stream",
     "text": [
      "Starting LightGBM. Train shape: (199879, 380), test shape: (107628, 380)\n",
      "Training until validation scores don't improve for 200 rounds\n",
      "[200]\ttraining's auc: 0.809661\ttraining's binary_logloss: 0.231956\tvalid_1's auc: 0.769887\tvalid_1's binary_logloss: 0.244132\n",
      "[400]\ttraining's auc: 0.845512\ttraining's binary_logloss: 0.217967\tvalid_1's auc: 0.778116\tvalid_1's binary_logloss: 0.240882\n",
      "[600]\ttraining's auc: 0.872743\ttraining's binary_logloss: 0.207443\tvalid_1's auc: 0.780355\tvalid_1's binary_logloss: 0.240089\n",
      "[800]\ttraining's auc: 0.893649\ttraining's binary_logloss: 0.198533\tvalid_1's auc: 0.781167\tvalid_1's binary_logloss: 0.239788\n",
      "[1000]\ttraining's auc: 0.910581\ttraining's binary_logloss: 0.190509\tvalid_1's auc: 0.781182\tvalid_1's binary_logloss: 0.239793\n",
      "Early stopping, best iteration is:\n",
      "[910]\ttraining's auc: 0.903494\ttraining's binary_logloss: 0.193994\tvalid_1's auc: 0.781272\tvalid_1's binary_logloss: 0.239793\n",
      "Fold  1 AUC : 0.781272\n",
      "Training until validation scores don't improve for 200 rounds\n",
      "[200]\ttraining's auc: 0.809079\ttraining's binary_logloss: 0.232083\tvalid_1's auc: 0.770413\tvalid_1's binary_logloss: 0.244008\n",
      "[400]\ttraining's auc: 0.844855\ttraining's binary_logloss: 0.218081\tvalid_1's auc: 0.779076\tvalid_1's binary_logloss: 0.24072\n",
      "[600]\ttraining's auc: 0.87199\ttraining's binary_logloss: 0.207596\tvalid_1's auc: 0.781182\tvalid_1's binary_logloss: 0.239915\n",
      "[800]\ttraining's auc: 0.89312\ttraining's binary_logloss: 0.198733\tvalid_1's auc: 0.781851\tvalid_1's binary_logloss: 0.239649\n",
      "[1000]\ttraining's auc: 0.910054\ttraining's binary_logloss: 0.190839\tvalid_1's auc: 0.781773\tvalid_1's binary_logloss: 0.239616\n",
      "Early stopping, best iteration is:\n",
      "[822]\ttraining's auc: 0.895306\ttraining's binary_logloss: 0.197808\tvalid_1's auc: 0.781895\tvalid_1's binary_logloss: 0.239627\n",
      "Fold  2 AUC : 0.781895\n",
      "Training until validation scores don't improve for 200 rounds\n",
      "[200]\ttraining's auc: 0.810431\ttraining's binary_logloss: 0.231654\tvalid_1's auc: 0.765813\tvalid_1's binary_logloss: 0.245392\n",
      "[400]\ttraining's auc: 0.846111\ttraining's binary_logloss: 0.217617\tvalid_1's auc: 0.774122\tvalid_1's binary_logloss: 0.24237\n",
      "[600]\ttraining's auc: 0.873199\ttraining's binary_logloss: 0.207182\tvalid_1's auc: 0.775836\tvalid_1's binary_logloss: 0.241824\n",
      "[800]\ttraining's auc: 0.894206\ttraining's binary_logloss: 0.198338\tvalid_1's auc: 0.776179\tvalid_1's binary_logloss: 0.241714\n",
      "[1000]\ttraining's auc: 0.910982\ttraining's binary_logloss: 0.190406\tvalid_1's auc: 0.776401\tvalid_1's binary_logloss: 0.241691\n",
      "Early stopping, best iteration is:\n",
      "[966]\ttraining's auc: 0.908314\ttraining's binary_logloss: 0.191699\tvalid_1's auc: 0.776526\tvalid_1's binary_logloss: 0.24164\n",
      "Fold  3 AUC : 0.776526\n",
      "Training until validation scores don't improve for 200 rounds\n",
      "[200]\ttraining's auc: 0.807908\ttraining's binary_logloss: 0.23266\tvalid_1's auc: 0.780185\tvalid_1's binary_logloss: 0.24132\n",
      "[400]\ttraining's auc: 0.844307\ttraining's binary_logloss: 0.218771\tvalid_1's auc: 0.787744\tvalid_1's binary_logloss: 0.237714\n",
      "[600]\ttraining's auc: 0.872195\ttraining's binary_logloss: 0.20822\tvalid_1's auc: 0.789192\tvalid_1's binary_logloss: 0.236954\n",
      "[800]\ttraining's auc: 0.893511\ttraining's binary_logloss: 0.19936\tvalid_1's auc: 0.789631\tvalid_1's binary_logloss: 0.236696\n",
      "[1000]\ttraining's auc: 0.91031\ttraining's binary_logloss: 0.191454\tvalid_1's auc: 0.789626\tvalid_1's binary_logloss: 0.236581\n",
      "Early stopping, best iteration is:\n",
      "[957]\ttraining's auc: 0.907073\ttraining's binary_logloss: 0.193077\tvalid_1's auc: 0.789748\tvalid_1's binary_logloss: 0.236573\n",
      "Fold  4 AUC : 0.789748\n",
      "Training until validation scores don't improve for 200 rounds\n",
      "[200]\ttraining's auc: 0.808871\ttraining's binary_logloss: 0.232188\tvalid_1's auc: 0.771171\tvalid_1's binary_logloss: 0.243712\n",
      "[400]\ttraining's auc: 0.845145\ttraining's binary_logloss: 0.218254\tvalid_1's auc: 0.780739\tvalid_1's binary_logloss: 0.240158\n",
      "[600]\ttraining's auc: 0.871949\ttraining's binary_logloss: 0.207923\tvalid_1's auc: 0.782331\tvalid_1's binary_logloss: 0.239531\n",
      "[800]\ttraining's auc: 0.893437\ttraining's binary_logloss: 0.198964\tvalid_1's auc: 0.782632\tvalid_1's binary_logloss: 0.23939\n",
      "[1000]\ttraining's auc: 0.910507\ttraining's binary_logloss: 0.191024\tvalid_1's auc: 0.783007\tvalid_1's binary_logloss: 0.239235\n",
      "[1200]\ttraining's auc: 0.92419\ttraining's binary_logloss: 0.183791\tvalid_1's auc: 0.783117\tvalid_1's binary_logloss: 0.239218\n",
      "Early stopping, best iteration is:\n",
      "[1090]\ttraining's auc: 0.916961\ttraining's binary_logloss: 0.187716\tvalid_1's auc: 0.783263\tvalid_1's binary_logloss: 0.239157\n",
      "Fold  5 AUC : 0.783263\n",
      "Full AUC score 0.782501\n"
     ]
    }
   ],
   "source": [
    "y_pred = light.kfold_lightgbm(df_train, df_test, \n",
    "                              num_folds=5, \n",
    "                              stratified = True, \n",
    "                              n_estimators = 5000, \n",
    "                              return_pred = True)"
   ]
  },
  {
   "cell_type": "code",
   "execution_count": 10,
   "metadata": {},
   "outputs": [
    {
     "data": {
      "image/png": "[encoded data removed]",
      "text/plain": [
       "<Figure size 432x432 with 1 Axes>"
      ]
     },
     "metadata": {
      "needs_background": "light"
     },
     "output_type": "display_data"
    }
   ],
   "source": [
    "# Prediction and score\n",
    "plt.figure(figsize = (6,6))\n",
    "y_test = df_test['TARGET']\n",
    "class_scripts.plot_roc(y_test, y_pred)\n",
    "plt.show()"
   ]
  },
  {
   "cell_type": "markdown",
   "metadata": {},
   "source": [
    "# Kaggle submission"
   ]
  },
  {
   "cell_type": "code",
   "execution_count": 3,
   "metadata": {},
   "outputs": [],
   "source": [
    "# Load test set\n",
    "data_test = pd.read_pickle('../data/data_outputs/feature_engineered/cleaned_dataset_test.pkl')"
   ]
  },
  {
   "cell_type": "code",
   "execution_count": 4,
   "metadata": {
    "scrolled": true
   },
   "outputs": [
    {
     "name": "stdout",
     "output_type": "stream",
     "text": [
      "Starting LightGBM. Train shape: (307507, 380), test shape: (48744, 380)\n",
      "Training until validation scores don't improve for 200 rounds\n",
      "[200]\ttraining's auc: 0.797497\ttraining's binary_logloss: 0.235276\tvalid_1's auc: 0.772269\tvalid_1's binary_logloss: 0.242756\n",
      "[400]\ttraining's auc: 0.825378\ttraining's binary_logloss: 0.224536\tvalid_1's auc: 0.782489\tvalid_1's binary_logloss: 0.238703\n",
      "[600]\ttraining's auc: 0.847112\ttraining's binary_logloss: 0.216662\tvalid_1's auc: 0.785378\tvalid_1's binary_logloss: 0.237646\n",
      "[800]\ttraining's auc: 0.864839\ttraining's binary_logloss: 0.21006\tvalid_1's auc: 0.786173\tvalid_1's binary_logloss: 0.237338\n",
      "[1000]\ttraining's auc: 0.879781\ttraining's binary_logloss: 0.204022\tvalid_1's auc: 0.786579\tvalid_1's binary_logloss: 0.23717\n",
      "[1200]\ttraining's auc: 0.892766\ttraining's binary_logloss: 0.198412\tvalid_1's auc: 0.786849\tvalid_1's binary_logloss: 0.237044\n",
      "[1400]\ttraining's auc: 0.90408\ttraining's binary_logloss: 0.193165\tvalid_1's auc: 0.786943\tvalid_1's binary_logloss: 0.236984\n",
      "[1600]\ttraining's auc: 0.913849\ttraining's binary_logloss: 0.188162\tvalid_1's auc: 0.787009\tvalid_1's binary_logloss: 0.236974\n",
      "[1800]\ttraining's auc: 0.922445\ttraining's binary_logloss: 0.183445\tvalid_1's auc: 0.787096\tvalid_1's binary_logloss: 0.236921\n",
      "[2000]\ttraining's auc: 0.930057\ttraining's binary_logloss: 0.178978\tvalid_1's auc: 0.787006\tvalid_1's binary_logloss: 0.236976\n",
      "Early stopping, best iteration is:\n",
      "[1814]\ttraining's auc: 0.923033\ttraining's binary_logloss: 0.183113\tvalid_1's auc: 0.787163\tvalid_1's binary_logloss: 0.236903\n",
      "Fold  1 AUC : 0.787163\n",
      "Training until validation scores don't improve for 200 rounds\n",
      "[200]\ttraining's auc: 0.796969\ttraining's binary_logloss: 0.235519\tvalid_1's auc: 0.772292\tvalid_1's binary_logloss: 0.242706\n",
      "[400]\ttraining's auc: 0.824478\ttraining's binary_logloss: 0.224913\tvalid_1's auc: 0.781992\tvalid_1's binary_logloss: 0.238805\n",
      "[600]\ttraining's auc: 0.846921\ttraining's binary_logloss: 0.217006\tvalid_1's auc: 0.78479\tvalid_1's binary_logloss: 0.237698\n",
      "[800]\ttraining's auc: 0.864863\ttraining's binary_logloss: 0.210343\tvalid_1's auc: 0.785878\tvalid_1's binary_logloss: 0.237261\n",
      "[1000]\ttraining's auc: 0.879846\ttraining's binary_logloss: 0.204279\tvalid_1's auc: 0.786765\tvalid_1's binary_logloss: 0.236923\n",
      "[1200]\ttraining's auc: 0.892795\ttraining's binary_logloss: 0.19864\tvalid_1's auc: 0.787548\tvalid_1's binary_logloss: 0.236668\n",
      "[1400]\ttraining's auc: 0.903779\ttraining's binary_logloss: 0.193492\tvalid_1's auc: 0.788017\tvalid_1's binary_logloss: 0.236504\n",
      "[1600]\ttraining's auc: 0.913698\ttraining's binary_logloss: 0.188513\tvalid_1's auc: 0.78818\tvalid_1's binary_logloss: 0.236435\n",
      "[1800]\ttraining's auc: 0.921966\ttraining's binary_logloss: 0.183902\tvalid_1's auc: 0.788317\tvalid_1's binary_logloss: 0.23639\n",
      "[2000]\ttraining's auc: 0.929674\ttraining's binary_logloss: 0.179414\tvalid_1's auc: 0.788399\tvalid_1's binary_logloss: 0.236369\n",
      "Early stopping, best iteration is:\n",
      "[1831]\ttraining's auc: 0.923293\ttraining's binary_logloss: 0.18318\tvalid_1's auc: 0.788389\tvalid_1's binary_logloss: 0.236361\n",
      "Fold  2 AUC : 0.788389\n",
      "Training until validation scores don't improve for 200 rounds\n",
      "[200]\ttraining's auc: 0.796849\ttraining's binary_logloss: 0.23541\tvalid_1's auc: 0.77732\tvalid_1's binary_logloss: 0.242076\n",
      "[400]\ttraining's auc: 0.825148\ttraining's binary_logloss: 0.224645\tvalid_1's auc: 0.785636\tvalid_1's binary_logloss: 0.23843\n",
      "[600]\ttraining's auc: 0.847209\ttraining's binary_logloss: 0.216797\tvalid_1's auc: 0.787179\tvalid_1's binary_logloss: 0.237633\n",
      "[800]\ttraining's auc: 0.864512\ttraining's binary_logloss: 0.210251\tvalid_1's auc: 0.7876\tvalid_1's binary_logloss: 0.237419\n",
      "[1000]\ttraining's auc: 0.878846\ttraining's binary_logloss: 0.204336\tvalid_1's auc: 0.788228\tvalid_1's binary_logloss: 0.237178\n",
      "[1200]\ttraining's auc: 0.891377\ttraining's binary_logloss: 0.198808\tvalid_1's auc: 0.788724\tvalid_1's binary_logloss: 0.237017\n",
      "[1400]\ttraining's auc: 0.902279\ttraining's binary_logloss: 0.193642\tvalid_1's auc: 0.788875\tvalid_1's binary_logloss: 0.236937\n",
      "Early stopping, best iteration is:\n",
      "[1289]\ttraining's auc: 0.896396\ttraining's binary_logloss: 0.19648\tvalid_1's auc: 0.789004\tvalid_1's binary_logloss: 0.236917\n",
      "Fold  3 AUC : 0.789004\n",
      "Training until validation scores don't improve for 200 rounds\n",
      "[200]\ttraining's auc: 0.796839\ttraining's binary_logloss: 0.23555\tvalid_1's auc: 0.775735\tvalid_1's binary_logloss: 0.242223\n",
      "[400]\ttraining's auc: 0.824725\ttraining's binary_logloss: 0.224726\tvalid_1's auc: 0.78509\tvalid_1's binary_logloss: 0.23824\n",
      "[600]\ttraining's auc: 0.846294\ttraining's binary_logloss: 0.216908\tvalid_1's auc: 0.787636\tvalid_1's binary_logloss: 0.23725\n",
      "[800]\ttraining's auc: 0.86377\ttraining's binary_logloss: 0.210325\tvalid_1's auc: 0.7883\tvalid_1's binary_logloss: 0.236926\n",
      "[1000]\ttraining's auc: 0.878808\ttraining's binary_logloss: 0.204306\tvalid_1's auc: 0.788751\tvalid_1's binary_logloss: 0.23671\n",
      "Early stopping, best iteration is:\n",
      "[981]\ttraining's auc: 0.877487\ttraining's binary_logloss: 0.204852\tvalid_1's auc: 0.788895\tvalid_1's binary_logloss: 0.236688\n",
      "Fold  4 AUC : 0.788895\n",
      "Training until validation scores don't improve for 200 rounds\n",
      "[200]\ttraining's auc: 0.79777\ttraining's binary_logloss: 0.23513\tvalid_1's auc: 0.76919\tvalid_1's binary_logloss: 0.243554\n",
      "[400]\ttraining's auc: 0.825892\ttraining's binary_logloss: 0.224239\tvalid_1's auc: 0.778743\tvalid_1's binary_logloss: 0.240141\n",
      "[600]\ttraining's auc: 0.84714\ttraining's binary_logloss: 0.216369\tvalid_1's auc: 0.781502\tvalid_1's binary_logloss: 0.239215\n",
      "[800]\ttraining's auc: 0.864782\ttraining's binary_logloss: 0.209749\tvalid_1's auc: 0.782378\tvalid_1's binary_logloss: 0.238947\n",
      "[1000]\ttraining's auc: 0.879448\ttraining's binary_logloss: 0.203794\tvalid_1's auc: 0.782904\tvalid_1's binary_logloss: 0.238777\n",
      "[1200]\ttraining's auc: 0.892495\ttraining's binary_logloss: 0.198173\tvalid_1's auc: 0.783276\tvalid_1's binary_logloss: 0.238668\n",
      "[1400]\ttraining's auc: 0.903751\ttraining's binary_logloss: 0.19286\tvalid_1's auc: 0.783353\tvalid_1's binary_logloss: 0.238656\n",
      "[1600]\ttraining's auc: 0.913452\ttraining's binary_logloss: 0.18791\tvalid_1's auc: 0.783487\tvalid_1's binary_logloss: 0.238637\n",
      "[1800]\ttraining's auc: 0.922099\ttraining's binary_logloss: 0.183206\tvalid_1's auc: 0.783661\tvalid_1's binary_logloss: 0.238599\n",
      "Early stopping, best iteration is:\n",
      "[1786]\ttraining's auc: 0.921438\ttraining's binary_logloss: 0.183548\tvalid_1's auc: 0.783696\tvalid_1's binary_logloss: 0.238585\n",
      "Fold  5 AUC : 0.783696\n",
      "Full AUC score 0.787338\n"
     ]
    }
   ],
   "source": [
    "# Prediction for test set\n",
    "y_pred = light.kfold_lightgbm(data, data_test, \n",
    "                              num_folds=5, \n",
    "                              stratified = True, \n",
    "                              n_estimators = 5000, \n",
    "                              return_pred = True)"
   ]
  },
  {
   "cell_type": "code",
   "execution_count": 5,
   "metadata": {},
   "outputs": [],
   "source": [
    "# Export submission\n",
    "df_submission = pd.DataFrame(y_pred, index = data_test['SK_ID_CURR'])\n",
    "df_submission.to_csv('submission.csv')"
   ]
  },
  {
   "cell_type": "markdown",
   "metadata": {
    "collapsed": "true"
   },
   "source": [
    "# Storing the model"
   ]
  },
  {
   "cell_type": "code",
   "execution_count": 18,
   "metadata": {},
   "outputs": [
    {
     "name": "stdout",
     "output_type": "stream",
     "text": [
      "Starting LightGBM. Train shape: (100, 380), test shape: (100, 380)\n",
      "Training until validation scores don't improve for 200 rounds\n",
      "[200]\ttraining's auc: 1\ttraining's binary_logloss: 0.0634565\tvalid_1's auc: 0.666667\tvalid_1's binary_logloss: 0.351375\n",
      "Early stopping, best iteration is:\n",
      "[2]\ttraining's auc: 0.918623\ttraining's binary_logloss: 0.346241\tvalid_1's auc: 0.555556\tvalid_1's binary_logloss: 0.325317\n",
      "Fold  1 AUC : 0.555556\n",
      "Training until validation scores don't improve for 200 rounds\n",
      "[200]\ttraining's auc: 1\ttraining's binary_logloss: 0.0732775\tvalid_1's auc: 0.722222\tvalid_1's binary_logloss: 0.317343\n",
      "Early stopping, best iteration is:\n",
      "[52]\ttraining's auc: 1\ttraining's binary_logloss: 0.218212\tvalid_1's auc: 0.611111\tvalid_1's binary_logloss: 0.308074\n",
      "Fold  2 AUC : 0.611111\n",
      "Training until validation scores don't improve for 200 rounds\n",
      "[200]\ttraining's auc: 1\ttraining's binary_logloss: 0.0578842\tvalid_1's auc: 0.472222\tvalid_1's binary_logloss: 0.52749\n",
      "Early stopping, best iteration is:\n",
      "[3]\ttraining's auc: 0.84507\ttraining's binary_logloss: 0.343558\tvalid_1's auc: 0.583333\tvalid_1's binary_logloss: 0.325172\n",
      "Fold  3 AUC : 0.583333\n",
      "Training until validation scores don't improve for 200 rounds\n",
      "[200]\ttraining's auc: 1\ttraining's binary_logloss: 0.0676486\tvalid_1's auc: 0.444444\tvalid_1's binary_logloss: 0.50234\n",
      "Early stopping, best iteration is:\n",
      "[23]\ttraining's auc: 0.974961\ttraining's binary_logloss: 0.285203\tvalid_1's auc: 0.75\tvalid_1's binary_logloss: 0.313626\n",
      "Fold  4 AUC : 0.750000\n",
      "Training until validation scores don't improve for 200 rounds\n",
      "[200]\ttraining's auc: 1\ttraining's binary_logloss: 0.0563096\tvalid_1's auc: 0.568627\tvalid_1's binary_logloss: 0.57701\n",
      "Early stopping, best iteration is:\n",
      "[10]\ttraining's auc: 0.948785\ttraining's binary_logloss: 0.291346\tvalid_1's auc: 0.607843\tvalid_1's binary_logloss: 0.431831\n",
      "Fold  5 AUC : 0.607843\n",
      "Full AUC score 0.614913\n"
     ]
    }
   ],
   "source": [
    "classifiers = light.kfold_lightgbm(df_train.iloc[:100], df_test.iloc[:100], \n",
    "                              num_folds=5, \n",
    "                              stratified = True, \n",
    "                              n_estimators = 5000, \n",
    "                              return_clf = True)"
   ]
  },
  {
   "cell_type": "code",
   "execution_count": 24,
   "metadata": {},
   "outputs": [],
   "source": [
    "class FinalClassifier():\n",
    "    \n",
    "    def fit(self, df_train, df_test, n_folds):\n",
    "        self.clfs_ = light.kfold_lightgbm(df_train, df_test, \n",
    "                              num_folds=n_folds, \n",
    "                              stratified = True, \n",
    "                              n_estimators = 5000, \n",
    "                              return_clf = True)\n",
    "        \n",
    "    def predict_proba(self, df_test):\n",
    "        y_pred = np.zeros(df_test.shape[0])\n",
    "        feats = [f for f in df_test.columns if f not in ['TARGET','SK_ID_CURR','SK_ID_BUREAU','SK_ID_PREV','index', 'source']]\n",
    "        for clf in self.clfs_:\n",
    "            y_pred += clf.predict_proba(df_test[feats])[:,1]/len(self.clfs_)\n",
    "        return y_pred\n",
    "        "
   ]
  },
  {
   "cell_type": "code",
   "execution_count": 25,
   "metadata": {},
   "outputs": [
    {
     "name": "stdout",
     "output_type": "stream",
     "text": [
      "Starting LightGBM. Train shape: (100, 380), test shape: (100, 380)\n",
      "Training until validation scores don't improve for 200 rounds\n",
      "[200]\ttraining's auc: 1\ttraining's binary_logloss: 0.0634565\tvalid_1's auc: 0.666667\tvalid_1's binary_logloss: 0.351375\n",
      "Early stopping, best iteration is:\n",
      "[2]\ttraining's auc: 0.918623\ttraining's binary_logloss: 0.346241\tvalid_1's auc: 0.555556\tvalid_1's binary_logloss: 0.325317\n",
      "Fold  1 AUC : 0.555556\n",
      "Training until validation scores don't improve for 200 rounds\n",
      "[200]\ttraining's auc: 1\ttraining's binary_logloss: 0.0732775\tvalid_1's auc: 0.722222\tvalid_1's binary_logloss: 0.317343\n",
      "Early stopping, best iteration is:\n",
      "[52]\ttraining's auc: 1\ttraining's binary_logloss: 0.218212\tvalid_1's auc: 0.611111\tvalid_1's binary_logloss: 0.308074\n",
      "Fold  2 AUC : 0.611111\n",
      "Training until validation scores don't improve for 200 rounds\n",
      "[200]\ttraining's auc: 1\ttraining's binary_logloss: 0.0578842\tvalid_1's auc: 0.472222\tvalid_1's binary_logloss: 0.52749\n",
      "Early stopping, best iteration is:\n",
      "[3]\ttraining's auc: 0.84507\ttraining's binary_logloss: 0.343558\tvalid_1's auc: 0.583333\tvalid_1's binary_logloss: 0.325172\n",
      "Fold  3 AUC : 0.583333\n",
      "Training until validation scores don't improve for 200 rounds\n",
      "[200]\ttraining's auc: 1\ttraining's binary_logloss: 0.0676486\tvalid_1's auc: 0.444444\tvalid_1's binary_logloss: 0.50234\n",
      "Early stopping, best iteration is:\n",
      "[23]\ttraining's auc: 0.974961\ttraining's binary_logloss: 0.285203\tvalid_1's auc: 0.75\tvalid_1's binary_logloss: 0.313626\n",
      "Fold  4 AUC : 0.750000\n",
      "Training until validation scores don't improve for 200 rounds\n",
      "[200]\ttraining's auc: 1\ttraining's binary_logloss: 0.0563096\tvalid_1's auc: 0.568627\tvalid_1's binary_logloss: 0.57701\n",
      "Early stopping, best iteration is:\n",
      "[10]\ttraining's auc: 0.948785\ttraining's binary_logloss: 0.291346\tvalid_1's auc: 0.607843\tvalid_1's binary_logloss: 0.431831\n",
      "Fold  5 AUC : 0.607843\n",
      "Full AUC score 0.614913\n"
     ]
    }
   ],
   "source": [
    "fc = FinalClassifier()\n",
    "fc.fit(df_train.iloc[:100], df_test.iloc[:100], n_folds=5)\n",
    "y_pred = fc.predict_proba(df_test.iloc[:100])"
   ]
  },
  {
   "cell_type": "code",
   "execution_count": 26,
   "metadata": {},
   "outputs": [
    {
     "data": {
      "text/plain": [
       "array([0.16038496, 0.08582042, 0.1410202 , 0.09387772, 0.10769459,\n",
       "       0.10147665, 0.10780955, 0.14165373, 0.09531946, 0.09727417,\n",
       "       0.1221894 , 0.1241562 , 0.14103922, 0.08769286, 0.09360208,\n",
       "       0.09076418, 0.14843886, 0.15975491, 0.12365899, 0.16966707,\n",
       "       0.11970022, 0.10246062, 0.16149968, 0.13922681, 0.09639014,\n",
       "       0.14006152, 0.09391386, 0.09655235, 0.08867065, 0.10829908,\n",
       "       0.1538405 , 0.08934436, 0.10688699, 0.12455744, 0.12492152,\n",
       "       0.0915411 , 0.09417652, 0.09237216, 0.11907486, 0.083749  ,\n",
       "       0.09403835, 0.09744941, 0.1235959 , 0.10682287, 0.09912064,\n",
       "       0.09644119, 0.09471873, 0.09902323, 0.10342919, 0.08396399,\n",
       "       0.08978765, 0.11068009, 0.09097881, 0.10334729, 0.13944412,\n",
       "       0.14559143, 0.10229438, 0.11712619, 0.09990187, 0.1030398 ,\n",
       "       0.11129703, 0.10955473, 0.0968518 , 0.08780413, 0.09947597,\n",
       "       0.1153819 , 0.08898652, 0.09064172, 0.13251433, 0.13680258,\n",
       "       0.12825489, 0.137104  , 0.12508586, 0.08944384, 0.15752364,\n",
       "       0.11667398, 0.16843547, 0.08515894, 0.10124374, 0.1275148 ,\n",
       "       0.08609292, 0.10600172, 0.1009297 , 0.09707151, 0.12834409,\n",
       "       0.10121704, 0.09061893, 0.13298949, 0.09594134, 0.09751517,\n",
       "       0.09521326, 0.11151539, 0.12198155, 0.08528603, 0.10452658,\n",
       "       0.11696385, 0.12317667, 0.12004673, 0.14214552, 0.09447034])"
      ]
     },
     "execution_count": 26,
     "metadata": {},
     "output_type": "execute_result"
    }
   ],
   "source": [
    "y_pred"
   ]
  },
  {
   "cell_type": "code",
   "execution_count": 28,
   "metadata": {},
   "outputs": [
    {
     "data": {
      "image/png": "[encoded data removed]",
      "text/plain": [
       "<Figure size 432x288 with 1 Axes>"
      ]
     },
     "metadata": {
      "needs_background": "light"
     },
     "output_type": "display_data"
    }
   ],
   "source": [
    "class_scripts.plot_roc(df_test.iloc[:100]['TARGET'], y_pred)"
   ]
  }
 ],
 "metadata": {
  "kernelspec": {
   "display_name": "Python 3",
   "language": "python",
   "name": "python3"
  },
  "language_info": {
   "codemirror_mode": {
    "name": "ipython",
    "version": 3
   },
   "file_extension": ".py",
   "mimetype": "text/x-python",
   "name": "python",
   "nbconvert_exporter": "python",
   "pygments_lexer": "ipython3",
   "version": "3.7.3"
  }
 },
 "nbformat": 4,
 "nbformat_minor": 4
}
